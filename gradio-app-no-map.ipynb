{
 "cells": [
  {
   "cell_type": "markdown",
   "id": "d1bcde3b",
   "metadata": {},
   "source": [
    "# Gradio app with no map\n",
    "\n",
    "This project is a demo of MCP (Model Context Protocol) capabilities. MCP has made waves in the data science community lately with the rise of agentic LLMs. Recently, [Gradio announced](https://www.gradio.app/guides/building-mcp-server-with-gradio) that they would support MCP natively in their applications. This one-line change is a game changer for developers exploring this capability. \n",
    "\n",
    "Could not have done this without the contributions by the [ADS-B Exchange Community](https://www.adsbexchange.com/). I accesses the data through the [RapidAPI](https://rapidapi.com/adsbx/api/adsbexchange-com1). "
   ]
  },
  {
   "cell_type": "markdown",
   "id": "fc7a6d01",
   "metadata": {},
   "source": [
    "### Import necessary libraries."
   ]
  },
  {
   "cell_type": "code",
   "execution_count": 13,
   "id": "882ee22c",
   "metadata": {},
   "outputs": [],
   "source": [
    "import gradio as gr\n",
    "import requests\n",
    "import os\n",
    "from dotenv import load_dotenv"
   ]
  },
  {
   "cell_type": "markdown",
   "id": "05c1e2ea",
   "metadata": {},
   "source": [
    "### Setup the API creds. "
   ]
  },
  {
   "cell_type": "code",
   "execution_count": 14,
   "id": "cceca72c",
   "metadata": {},
   "outputs": [],
   "source": [
    "# Load your API key from a .env file\n",
    "load_dotenv()\n",
    "RAPIDAPI_KEY = os.getenv(\"RAPIDAPI_KEY\")"
   ]
  },
  {
   "cell_type": "markdown",
   "id": "d3ec7065",
   "metadata": {},
   "source": [
    "### Function to grab aircraft within 5 NM of location. "
   ]
  },
  {
   "cell_type": "code",
   "execution_count": 15,
   "id": "804ae6bd",
   "metadata": {},
   "outputs": [],
   "source": [
    "# Function to query the ADS-B Exchange API\n",
    "def find_aircraft(lat, lon):\n",
    "    \"\"\"\n",
    "    Query the ADS-B Exchange API to find aircraft within 1 nautical mile of a given latitude and longitude.\n",
    "\n",
    "    Parameters\n",
    "    ----------\n",
    "    lat : float\n",
    "        The latitude in decimal degrees where the aircraft search should be centered.\n",
    "    lon : float\n",
    "        The longitude in decimal degrees where the aircraft search should be centered.\n",
    "\n",
    "    Returns\n",
    "    -------\n",
    "    str\n",
    "        A string describing the number of aircraft found and their callsigns and types,\n",
    "        or a message indicating that no aircraft were found or that an error occurred.\n",
    "    \"\"\"\n",
    "    try:\n",
    "        \n",
    "        url = f\"https://adsbexchange-com1.p.rapidapi.com/v2/lat/{lat}/lon/{lon}/dist/5/\"\n",
    "\n",
    "        headers = {\n",
    "            \"x-rapidapi-key\": RAPIDAPI_KEY,\n",
    "            \"x-rapidapi-host\": \"adsbexchange-com1.p.rapidapi.com\",\n",
    "        }\n",
    "\n",
    "        response = requests.get(url, headers=headers)\n",
    "        data = response.json()\n",
    "\n",
    "        if \"ac\" in data and data[\"ac\"]:\n",
    "            aircraft_info = [\n",
    "                f\"Flight: {ac.get('flight', 'N/A')} | Type: {ac.get('t', 'N/A')}\"\n",
    "                for ac in data[\"ac\"]\n",
    "            ]\n",
    "            return f\"{len(data['ac'])} aircraft found:\\n\\n\" + \"\\n\".join(aircraft_info)\n",
    "        else:\n",
    "            return \"No aircraft found within 5 NM.\"\n",
    "\n",
    "    except Exception as e:\n",
    "        return f\"Error: {str(e)}\""
   ]
  },
  {
   "cell_type": "markdown",
   "id": "2409e060",
   "metadata": {},
   "source": [
    "### Setup the Gradio interface. "
   ]
  },
  {
   "cell_type": "code",
   "execution_count": 16,
   "id": "337bff5a",
   "metadata": {},
   "outputs": [],
   "source": [
    "# Gradio UI\n",
    "demo = gr.Interface(\n",
    "    fn=find_aircraft,\n",
    "    inputs=[\n",
    "        gr.Number(label=\"Latitude\", value=27.941042),\n",
    "        gr.Number(label=\"Longitude\", value=-82.455581),\n",
    "    ],\n",
    "    outputs=\"text\",\n",
    "    title=\"Nearby Aircraft Finder (ADS-B Exchange)\",\n",
    "    description=\"Enter a latitude and longitude to find aircraft within 5 nautical mile using ADS-B Exchange's REST API.\",\n",
    ")"
   ]
  },
  {
   "cell_type": "markdown",
   "id": "de3d1a54",
   "metadata": {},
   "source": [
    "### Finally, call the Gradio UI. "
   ]
  },
  {
   "cell_type": "code",
   "execution_count": 18,
   "id": "334373e3",
   "metadata": {},
   "outputs": [
    {
     "name": "stdout",
     "output_type": "stream",
     "text": [
      "Rerunning server... use `close()` to stop if you need to change `launch()` parameters.\n",
      "----\n",
      "* To create a public link, set `share=True` in `launch()`.\n",
      "\n",
      "🔨 MCP server (using SSE) running at: http://127.0.0.1:7863/gradio_api/mcp/sse\n"
     ]
    },
    {
     "data": {
      "text/html": [
       "<div><iframe src=\"http://127.0.0.1:7863/\" width=\"100%\" height=\"500\" allow=\"autoplay; camera; microphone; clipboard-read; clipboard-write;\" frameborder=\"0\" allowfullscreen></iframe></div>"
      ],
      "text/plain": [
       "<IPython.core.display.HTML object>"
      ]
     },
     "metadata": {},
     "output_type": "display_data"
    },
    {
     "data": {
      "text/plain": []
     },
     "execution_count": 18,
     "metadata": {},
     "output_type": "execute_result"
    }
   ],
   "source": [
    "demo.launch(mcp_server=True)"
   ]
  },
  {
   "cell_type": "code",
   "execution_count": null,
   "id": "fa36959a",
   "metadata": {},
   "outputs": [],
   "source": []
  }
 ],
 "metadata": {
  "kernelspec": {
   "display_name": "mcp-env",
   "language": "python",
   "name": "python3"
  },
  "language_info": {
   "codemirror_mode": {
    "name": "ipython",
    "version": 3
   },
   "file_extension": ".py",
   "mimetype": "text/x-python",
   "name": "python",
   "nbconvert_exporter": "python",
   "pygments_lexer": "ipython3",
   "version": "3.11.5"
  }
 },
 "nbformat": 4,
 "nbformat_minor": 5
}
